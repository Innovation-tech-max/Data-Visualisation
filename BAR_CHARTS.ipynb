{
  "nbformat": 4,
  "nbformat_minor": 0,
  "metadata": {
    "colab": {
      "name": "BAR-CHARTS",
      "private_outputs": true,
      "provenance": []
    },
    "kernelspec": {
      "name": "python3",
      "display_name": "Python 3"
    },
    "language_info": {
      "name": "python"
    }
  },
  "cells": [
    {
      "cell_type": "code",
      "metadata": {
        "id": "tnqo08SmQzEJ"
      },
      "source": [
        "import matplotlib.pyplot as plt\n",
        "import numpy as np\n",
        "import pandas as pd\n",
        "import seaborn as sns\n",
        "%matplotlib inline"
      ],
      "execution_count": null,
      "outputs": []
    },
    {
      "cell_type": "markdown",
      "metadata": {
        "id": "IQJSEZ2tQXlf"
      },
      "source": [
        "## **Matplotlib** is a visualization library in Python for 2D plots of arrays. Matplotlib is written in Python and makes use of the NumPy library. It can be used in Python and IPython shells, Jupyter notebook, and web application servers. Matplotlib comes with a wide variety of plots like line, bar, scatter, histogram, etc. which can help us, deep-dive, into understanding trends, patterns, correlations. It was introduced by John Hunter in 2002."
      ]
    },
    {
      "cell_type": "markdown",
      "metadata": {
        "id": "jzUcPdlmQpP3"
      },
      "source": [
        "### Bar-chart using matplotlib"
      ]
    },
    {
      "cell_type": "code",
      "metadata": {
        "id": "l-NFM4uzQGAu"
      },
      "source": [
        "#loading the dataset\n",
        "df=sns.load_dataset('titanic')\n",
        "df.head()"
      ],
      "execution_count": null,
      "outputs": []
    },
    {
      "cell_type": "code",
      "metadata": {
        "id": "RpXZC7UJRKLe"
      },
      "source": [
        "#df1=df.groupby('who')['fare'].sum()"
      ],
      "execution_count": null,
      "outputs": []
    },
    {
      "cell_type": "code",
      "metadata": {
        "id": "yRgxJPkGR2UZ"
      },
      "source": [
        "#df=pd.DataFrame(data=df1)      matplotlib doesn't make use of pd."
      ],
      "execution_count": null,
      "outputs": []
    },
    {
      "cell_type": "code",
      "metadata": {
        "id": "dH8flEWFYpKB"
      },
      "source": [
        "df=df.groupby('who')['fare'].sum().to_frame().reset_index()"
      ],
      "execution_count": null,
      "outputs": []
    },
    {
      "cell_type": "code",
      "metadata": {
        "id": "nWFp9iZUTMHq"
      },
      "source": [
        "plt.barh(df['who'],df['fare'],color=['#F0F8FF','#E6E6FA','#B0E0E6'])\n",
        "#adding aesthetics\n",
        "plt.title('Bar-plot')\n",
        "plt.xlabel('X axis title')\n",
        "plt.ylabel('Y axis title')\n",
        "plt.show()"
      ],
      "execution_count": null,
      "outputs": []
    },
    {
      "cell_type": "markdown",
      "metadata": {
        "id": "l59yQpC5ZOjJ"
      },
      "source": [
        "# **Seaborn** is a dataset-oriented library for making statistical representations in Python. It is developed atop matplotlib and to create different visualizations. It is integrated with pandas data structures. The library internally performs the required mapping and aggregation to create informative visuals It is recommended to use a Jupyter/IPython interface in matplotlib mode."
      ]
    },
    {
      "cell_type": "code",
      "metadata": {
        "id": "cI8MAOrVZIRQ"
      },
      "source": [
        "#creating bar-plot using seaborn\n",
        "sns.barplot(x='fare',y='who',data=sns.load_dataset('titanic'),palette='Blues')\n",
        "#Adding the aesthetics\n",
        "plt.title('Chart title')\n",
        "plt.xlabel('X axis title')\n",
        "plt.ylabel('Y axis title') \n",
        "# Show the plot\n",
        "plt.show()"
      ],
      "execution_count": null,
      "outputs": []
    },
    {
      "cell_type": "markdown",
      "metadata": {
        "id": "JPKpKN2WaumM"
      },
      "source": [
        "# Column chart using Matplotlib"
      ]
    },
    {
      "cell_type": "markdown",
      "metadata": {
        "id": "pzzw0nO4azF6"
      },
      "source": [
        "We use column chart when we need to compare one group with more than one groups. For example, coid cases of different states of Assam."
      ]
    },
    {
      "cell_type": "code",
      "metadata": {
        "id": "HSbGiPg4aOfk"
      },
      "source": [
        "#Creating the dataset\n",
        "df = sns.load_dataset('titanic') \n",
        "df=df.groupby('who')['fare'].sum().to_frame().reset_index()\n",
        "#Creating the column plot \n",
        "plt.bar(df['who'],df['fare'],color = ['#F0F8FF','#E6E6FA','#B0E0E6']) \n",
        "#Adding the aesthetics\n",
        "plt.title('Chart title')\n",
        "plt.xlabel('X axis title')\n",
        "plt.ylabel('Y axis title') \n",
        "#Show the plot\n",
        "plt.show()"
      ],
      "execution_count": null,
      "outputs": []
    },
    {
      "cell_type": "markdown",
      "metadata": {
        "id": "9Qnwigi0cMYY"
      },
      "source": [
        "# Colum-chart using Seaborn"
      ]
    },
    {
      "cell_type": "code",
      "metadata": {
        "id": "AXrh1tGobppI"
      },
      "source": [
        "#creating bar-plot using seaborn\n",
        "sns.barplot(x='who',y='fare',data=sns.load_dataset('titanic'),palette='Blues')\n",
        "#Adding the aesthetics\n",
        "plt.title('Chart title')\n",
        "plt.xlabel('X axis title')\n",
        "plt.ylabel('Y axis title') \n",
        "# Show the plot\n",
        "plt.show()"
      ],
      "execution_count": null,
      "outputs": []
    },
    {
      "cell_type": "markdown",
      "metadata": {
        "id": "AfCOJ-s-c4x0"
      },
      "source": [
        "# Grouped-bar chart"
      ]
    },
    {
      "cell_type": "markdown",
      "metadata": {
        "id": "VFge4wkPf-pg"
      },
      "source": [
        "We use grouped-chart in order to compare within groups, subgroups."
      ]
    },
    {
      "cell_type": "markdown",
      "metadata": {
        "id": "v74lNkMijZyY"
      },
      "source": [
        "# Grouped-bar chart using Matplotlib"
      ]
    },
    {
      "cell_type": "code",
      "metadata": {
        "id": "dh1tgqY-cnHY"
      },
      "source": [
        "df=sns.load_dataset('titanic')\n",
        "'''The pivot table takes simple column-wise data as input, and groups the entries into \n",
        "  a two-dimensional table that provides a multidimensional summarization of the data.'''\n",
        "df_pivot=pd.pivot_table(df,values='fare',index='who',columns='class',aggfunc=np.mean)"
      ],
      "execution_count": null,
      "outputs": []
    },
    {
      "cell_type": "code",
      "metadata": {
        "id": "6_Mx6v9LhEd2"
      },
      "source": [
        "df_pivot"
      ],
      "execution_count": null,
      "outputs": []
    },
    {
      "cell_type": "code",
      "metadata": {
        "id": "3TZOPn01hT_2"
      },
      "source": [
        "a=df_pivot.plot(kind=\"bar\",alpha=0.5)\n",
        "#Adding the aesthetics\n",
        "plt.title('Chart title')\n",
        "plt.xlabel('X axis title')\n",
        "plt.ylabel('Y axis title') \n",
        "# Show the plot\n",
        "plt.show()"
      ],
      "execution_count": null,
      "outputs": []
    },
    {
      "cell_type": "markdown",
      "metadata": {
        "id": "gBWAhF0Fje8X"
      },
      "source": [
        "# Grouped-bar chart using Seaborn"
      ]
    },
    {
      "cell_type": "code",
      "metadata": {
        "id": "jYyXalU7igDn"
      },
      "source": [
        "sns.set_theme(style=\"whitegrid\")\n",
        "sns.barplot(x='who',y='fare',hue='class',data=sns.load_dataset('titanic'),color=\"salmon\")\n",
        "#Adding the aesthetics\n",
        "plt.title('Chart title')\n",
        "plt.xlabel('X axis title')\n",
        "plt.ylabel('Y axis title') \n",
        "# Show the plot\n",
        "plt.show()"
      ],
      "execution_count": null,
      "outputs": []
    },
    {
      "cell_type": "markdown",
      "metadata": {
        "id": "rLf5DL_1lE81"
      },
      "source": [
        "# Stacked bar chart"
      ]
    },
    {
      "cell_type": "markdown",
      "metadata": {
        "id": "bKs6SJBWlujH"
      },
      "source": [
        "Stacked bar chart is used when we want to compare within the components of a group and the total sizes across all the groups."
      ]
    },
    {
      "cell_type": "markdown",
      "metadata": {
        "id": "FYvmPfSamJUD"
      },
      "source": [
        "# Stacked bar chart using Matplotlib"
      ]
    },
    {
      "cell_type": "code",
      "metadata": {
        "id": "qLfYrMIrkARD"
      },
      "source": [
        "# Stacked bar chart \n",
        "#Creating the dataset\n",
        "df = pd.DataFrame(columns=[\"A\",\"B\", \"C\",\"D\"], \n",
        "                  data=[[\"E\",0,1,1],\n",
        "                        [\"F\",1,1,0],\n",
        "                        [\"G\",0,1,0]])\n",
        "\n",
        "df.plot.bar(x='A', y=[\"B\", \"C\",\"D\"],  stacked=True,  width = 0.4,alpha=1) \n",
        "\n",
        "#Adding the aesthetics\n",
        "plt.title('Chart title')\n",
        "plt.xlabel('X axis title')\n",
        "plt.ylabel('Y axis title')  \n",
        "\n",
        "#Show the plot\n",
        "plt.show()"
      ],
      "execution_count": null,
      "outputs": []
    },
    {
      "cell_type": "markdown",
      "metadata": {
        "id": "V3W3QBFDVqIv"
      },
      "source": [
        "#Stacked-bar using Seaborn"
      ]
    },
    {
      "cell_type": "code",
      "metadata": {
        "id": "hxfc9lSV9Z5k"
      },
      "source": [
        "df.set_index('A').T.plot(kind='bar', stacked=True)\n",
        "\n",
        "#Adding the aesthetics\n",
        "plt.title('Chart title')\n",
        "plt.xlabel('X axis title')\n",
        "plt.ylabel('Y axis title')  \n",
        "\n",
        "#Show the plot\n",
        "plt.show()"
      ],
      "execution_count": null,
      "outputs": []
    }
  ]
}